{
  "cells": [
    {
      "cell_type": "markdown",
      "metadata": {},
      "source": [
        "---\n",
        "title: \"Tesla Takes the Wheel: Brand Comparisons and EV Adoption in Washington\"\n",
        "subtitle: \"Tesla's rise in range, reach, and reputation — told through data\"\n",
        "format:\n",
        "  html:\n",
        "    toc: true\n",
        "    toc-depth: 1\n",
        "    number-sections: true\n",
        "    freeze: true\n",
        "    theme: flatly\n",
        "---\n",
        "\n",
        "# Executive Summary\n",
        "\n",
        "Electric vehicles are no longer just the future—they're the present. In this project, I explore how Washington State is embracing EVs, with Tesla clearly driving the momentum. Using public registration data, I visualized four key dimensions of the EV landscape: growth over time, brand comparisons, electric range, and regional hotspots. The data tells a compelling story of how quickly things are changing, and how one brand in particular—Tesla—is helping lead that transformation.\n",
        "\n",
        "# Background and Dataset Summary\n",
        "\n",
        "The dataset comes from the Electric Vehicle Population Data shared by the Washington State Department of Licensing. It includes more than 235,000 EVs currently registered in the state. Each record captures model year, brand, electric range, city of registration, and even utility provider — offering rich insight into how, where, and what kinds of electric vehicles people are driving in Washington.\n",
        "\n",
        "With 17 columns in total, the dataset gives us:\n",
        "\n",
        "- Vehicle details (make, model, model year, range)  \n",
        "- Location data (city, county, zip)  \n",
        "- Energy + policy fields (utility provider, CAFV eligibility)  \n",
        "- Additional metadata like MSRP and census tract  \n",
        "\n",
        "# Why This Topic?\n",
        "\n",
        "I've always been drawn to stories hidden in data—especially when they reflect real, tangible changes happening around us. As someone who cares deeply about the environment and envisions a cleaner, more sustainable future, electric vehicles represent a hopeful shift. They're not just machines—they're milestones on our journey toward greener cities and cleaner skies.\n",
        "\n",
        "When I found this dataset, I was immediately intrigued. It's rare to get such a comprehensive look at a state's transition toward electric mobility. And with Washington leading the charge, and Tesla front and center, I saw a story waiting to be told.\n",
        "\n",
        "That said, I don't want to stop at one state. In the future, I'd love to explore how EV adoption compares across different regions and countries—how infrastructure, policy, and culture shape the road to electrification around the world.\n",
        "\n",
        "# Figure-by-Figure Walkthrough\n",
        "\n",
        "## Import Libraries"
      ],
      "id": "8b63f739"
    },
    {
      "cell_type": "code",
      "metadata": {},
      "source": [
        "%pip install plotly\n",
        "%pip install polars great_tables\n",
        "import pandas as pd\n",
        "import numpy as np\n",
        "import plotly.express as px\n",
        "import polars as pl\n",
        "from great_tables import (\n",
        "    GT, md, google_font, style, loc\n",
        ")\n",
        "\n",
        "# Load the dataset\n",
        "df = pd.read_csv(\"data/projects/ev-adoption/Electric_Vehicle_Population_Data.csv\")\n",
        "\n",
        "# Filter only Washington's data\n",
        "df_wa = df[df['State'] == 'WA']"
      ],
      "id": "c380b244",
      "execution_count": null,
      "outputs": []
    },
    {
      "cell_type": "markdown",
      "metadata": {},
      "source": [
        "### EV Adoption by Model Year\n",
        "\n",
        "This bar chart shows just how sharply EV adoption has climbed, especially in the past five years. The 2023 spike is a real eye-opener."
      ],
      "id": "fbd179bc"
    },
    {
      "cell_type": "code",
      "metadata": {},
      "source": [
        "# Filter data of EV Count by model year\n",
        "df_wa_model = (\n",
        "    df_wa[['model', 'model_year']]\n",
        "    .groupby('model_year')\n",
        "    .agg({\"model\": \"count\"})\n",
        "    .reset_index()\n",
        ")\n",
        "\n",
        "df_wa_model['model_year'] = df_wa_model['model_year'].astype(str)\n",
        "df_wa_model['flag'] = df_wa_model['model_year'] == '2023'\n",
        "\n",
        "fig_bar = px.bar(\n",
        "    df_wa_model,  \n",
        "    x='model_year',\n",
        "    y='model', \n",
        "    template='plotly_white',\n",
        "    title=\"<b><i>Washington's</i> Shift to Electric: Model Year Trends in EV Adoption</b>\",\n",
        "    text='model',\n",
        "    color='flag'\n",
        ")\n",
        "\n",
        "fig_bar.show()"
      ],
      "id": "f9a01e23",
      "execution_count": null,
      "outputs": []
    },
    {
      "cell_type": "markdown",
      "metadata": {},
      "source": [
        "![](../images/projects/ev-adoption/bar_3_no_yaxis.png)\n",
        "\n",
        "### Top 5 Cities for EV Ownership\n",
        "\n",
        "Seattle is far ahead of the rest."
      ],
      "id": "4ed502b7"
    },
    {
      "cell_type": "code",
      "metadata": {},
      "source": [
        "# Filter data of top 5 cities by total EV count\n",
        "top_cities = (\n",
        "    df_wa.groupby('city')\n",
        "    .agg({\"model\": \"count\"})\n",
        "    .sort_values(by=\"model\", ascending=False)\n",
        "    .head(5)\n",
        "    .reset_index()\n",
        "    .rename(columns={'city': 'City','model': 'EV Count'})\n",
        ")\n",
        "\n",
        "top_cities['Flag'] = top_cities['City'] == \"Seattle\"\n",
        "\n",
        "# Create a styled table\n",
        "table_city = (\n",
        "    GT(pl.DataFrame(top_cities[['City','EV Count']]))\n",
        "    .tab_header(\n",
        "        title = md(\"__Where Washington Drives Electric: Top 5 EV-Adopting Cities__\")\n",
        "    )\n",
        ")\n",
        "\n",
        "table_city.show()"
      ],
      "id": "b39559d0",
      "execution_count": null,
      "outputs": []
    },
    {
      "cell_type": "markdown",
      "metadata": {},
      "source": [
        "![](../images/projects/ev-adoption/table3.png)\n",
        "\n",
        "### EV Brand Popularity in Major Cities\n",
        "\n",
        "Tesla leads in every single one, often by a huge margin."
      ],
      "id": "992e48c2"
    },
    {
      "cell_type": "code",
      "metadata": {},
      "source": [
        "# Find top 5 cities\n",
        "top_5_cities = (\n",
        "    df_wa.groupby('city')\n",
        "    .agg({\"model\": \"count\"})\n",
        "    .sort_values(by=\"model\", ascending=False)\n",
        "    .head(5)\n",
        "    .index\n",
        ")\n",
        "\n",
        "# Filter data\n",
        "df_top_cities = df_wa[df_wa['city'].isin(top_5_cities)]\n",
        "\n",
        "# Group by city and brand\n",
        "df_brand = (\n",
        "    df_top_cities.groupby(['city','make'])\n",
        "    .agg({\"model\": \"count\"})\n",
        "    .reset_index()\n",
        "    .rename(columns={'city':'City','make':'Brand','model':'EV Count'})\n",
        ")\n",
        "\n",
        "# top 5 per city\n",
        "df_brand_top5 = df_brand.groupby('City').head(5)\n",
        "df_brand_top5['Flag'] = df_brand_top5['Brand'] == \"TESLA\"\n",
        "\n",
        "fig_facet = px.bar(\n",
        "    df_brand_top5,\n",
        "    x='Brand', y='EV Count',\n",
        "    facet_col='City',\n",
        "    color='Flag'\n",
        ")\n",
        "\n",
        "fig_facet.show()"
      ],
      "id": "14505446",
      "execution_count": null,
      "outputs": []
    },
    {
      "cell_type": "markdown",
      "metadata": {},
      "source": [
        "![](../images/projects/ev-adoption/facet_h_1.png)\n",
        "\n",
        "### Electric Range by Brand\n",
        "\n",
        "Tesla pulls far ahead in driving distance."
      ],
      "id": "c8ffed2b"
    },
    {
      "cell_type": "code",
      "metadata": {},
      "source": [
        "top_brands = ['TESLA','CHEVROLET','NISSAN','FORD','KIA','TOYOTA','BMW','HYUNDAI','JEEP','VOLKSWAGEN']\n",
        "\n",
        "df_elec_range = df_wa[df_wa['make'].isin(top_brands)]\n",
        "df_elec_range['flag'] = df_elec_range['make'] == \"TESLA\"\n",
        "\n",
        "fig_box = px.box(\n",
        "    df_elec_range, \n",
        "    x='electric_range', \n",
        "    y='make',\n",
        "    title='<b>Electric Range by Brand Among Top EV Makes</b>',\n",
        "    color='flag'\n",
        ")\n",
        "\n",
        "fig_box.show()"
      ],
      "id": "0e95fc32",
      "execution_count": null,
      "outputs": []
    },
    {
      "cell_type": "markdown",
      "metadata": {},
      "source": [
        "![](../images/projects/ev-adoption/box_h_2.png)\n",
        "\n",
        "# Design Choices That Made It Work\n",
        "\n",
        "- Simplicity first: clean labels, clear axis titles, minimal clutter\n",
        "- Color with purpose: Seattle, 2023, Tesla highlighted in green; others in gray\n",
        "- Consistent type: Spectral (serif) for titles, Poppins (sans-serif) for data\n",
        "- Layout flow: charts align vertically for a smooth flow\n",
        "- Color Palette:"
      ],
      "id": "6278a05e"
    },
    {
      "cell_type": "code",
      "metadata": {},
      "source": [
        "color_palette = {\n",
        "    \"black\": \"#000000\", \n",
        "    \"green\": \"#27AE60\", \n",
        "    \"gray\": \"#7F8C8D\", \n",
        "    \"white\": \"#ECF0F1\"\n",
        "}"
      ],
      "id": "a0ba73ee",
      "execution_count": null,
      "outputs": []
    },
    {
      "cell_type": "markdown",
      "metadata": {},
      "source": [
        "# Final Thoughts\n",
        "\n",
        "Originally, I planned to include a geographic heatmap, but simplifying to four strong visuals made for a clearer and more engaging story. This project helped me practice transforming raw data into something accessible and hopefully insightful.\n",
        "\n",
        "Whether you're a fellow data nerd or just curious about EVs, I hope this piece gives you something to think about the next time you see a Tesla on the road."
      ],
      "id": "d6033fcc"
    }
  ],
  "metadata": {
    "kernelspec": {
      "name": "python3",
      "language": "python",
      "display_name": "Python 3 (ipykernel)",
      "path": "C:\\Users\\emily\\AppData\\Local\\Programs\\Python\\Python313\\share\\jupyter\\kernels\\python3"
    }
  },
  "nbformat": 4,
  "nbformat_minor": 5
}